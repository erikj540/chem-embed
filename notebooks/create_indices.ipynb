{
 "cells": [
  {
   "cell_type": "code",
   "execution_count": 2,
   "metadata": {},
   "outputs": [],
   "source": [
    "# Set the current directory to be the repo's parent directory\n",
    "# This needs to be be updated for your local machine\n",
    "import os\n",
    "os.chdir(\"/Users/erjo3868/repos/chem-embed/chem-embed\")"
   ]
  },
  {
   "cell_type": "markdown",
   "metadata": {},
   "source": [
    "# Imports"
   ]
  },
  {
   "cell_type": "code",
   "execution_count": 3,
   "metadata": {},
   "outputs": [],
   "source": [
    "from src.constants import DATA_DIR, EMBEDDINGS_DIR, INDICES_DIR\n",
    "from src.create_and_query_index import add_and_query_index\n",
    "from src.utils import pickle_and_compress, decompress_and_unpickle\n",
    "import faiss\n",
    "import glob\n",
    "import numpy as np\n",
    "from sklearn.model_selection import train_test_split\n",
    "import time\n",
    "from pathlib import Path"
   ]
  },
  {
   "cell_type": "markdown",
   "metadata": {},
   "source": [
    "# Define indices to test with"
   ]
  },
  {
   "cell_type": "code",
   "execution_count": null,
   "metadata": {},
   "outputs": [
    {
     "name": "stdout",
     "output_type": "stream",
     "text": [
      "Embedding = /Users/erjo3868/repos/chem-embed/chem-embed/data/embeddings/chembl_v23_smiles_morgan_radius=1_dim=2048.npy\n",
      "Running index 'flat-binary'...\n",
      "Index 'flat-binary' failed!\n",
      "Embedding = /Users/erjo3868/repos/chem-embed/chem-embed/data/embeddings/chembl_v23_smiles_morgan_radius=1_dim=1024.npy\n",
      "Running index 'flat-binary'...\n",
      "Index 'flat-binary' failed!\n",
      "Running index 'hnsw-32'...\n",
      "\t Took 222.68 seconds\n",
      "Embedding = /Users/erjo3868/repos/chem-embed/chem-embed/data/embeddings/chembl_v23_smiles_morgan_radius=0_dim=1024.npy\n",
      "Running index 'flat'...\n",
      "\t Took 13.45 seconds\n",
      "Running index 'flat-binary'...\n",
      "Index 'flat-binary' failed!\n",
      "Running index 'hnsw-32'...\n",
      "\t Took 593.9 seconds\n",
      "Embedding = /Users/erjo3868/repos/chem-embed/chem-embed/data/embeddings/chembl_v23_smiles_morgan_radius=0_dim=2048.npy\n",
      "Running index 'flat'...\n",
      "\t Took 28.79 seconds\n",
      "Running index 'flat-binary'...\n",
      "Index 'flat-binary' failed!\n",
      "Running index 'hnsw-32'...\n"
     ]
    }
   ],
   "source": [
    "# Constants\n",
    "rand_seed = 42069\n",
    "num_query_vecs = 1000\n",
    "num_neighbors = 20\n",
    "\n",
    "# Variable that will keep track of all results\n",
    "\n",
    "# Load embedding\n",
    "embeddings = glob.glob(str(EMBEDDINGS_DIR) + \"/*.npy\")\n",
    "\n",
    "for embedding in embeddings:\n",
    "    print(f\"Embedding = {embedding}\")\n",
    "    embedding = Path(embedding)\n",
    "    data = np.load(embedding)\n",
    "    embed_dim = data.shape[1]\n",
    "\n",
    "    # Define indices\n",
    "    indices = {\n",
    "        \"flat\": faiss.IndexFlatL2(embed_dim),\n",
    "        \"flat-binary\": faiss.IndexBinaryFlat(embed_dim)\n",
    "    }\n",
    "    m_vals = [32]\n",
    "    for m in m_vals:\n",
    "        indices[f\"hnsw-{m}\"] = faiss.IndexHNSWFlat(embed_dim, m)\n",
    "\n",
    "    # Split data into vectors that will go into the index and those that we'll use to\n",
    "    # query the index\n",
    "    index_vecs, query_vecs = train_test_split(\n",
    "        data, test_size=num_query_vecs, random_state=rand_seed\n",
    "    )\n",
    "    # Add vectors to index and query it\n",
    "    results = {}\n",
    "    for name, index in indices.items():\n",
    "        index_file_path = INDICES_DIR / f\"{embedding.stem}.{name}.index\"\n",
    "        result_file_path = INDICES_DIR / f\"{embedding.stem}.{name}.result.pkl\"\n",
    "        if (not index_file_path.exists()) or (not result_file_path.exists()):\n",
    "            try:\n",
    "                print(f\"Running index '{name}'...\")\n",
    "                t0 = time.time()\n",
    "                result, index = add_and_query_index(\n",
    "                    index_vecs=index_vecs,\n",
    "                    query_vecs=query_vecs,\n",
    "                    index=index,\n",
    "                    num_neighbors=num_neighbors,\n",
    "                )\n",
    "                print(f\"\\t Took {round(time.time()-t0, 2)} seconds\")\n",
    "                faiss.write_index(index, str(index_file_path))\n",
    "                pickle_and_compress(\n",
    "                    obj=result,\n",
    "                    file_path=result_file_path\n",
    "                )\n",
    "            except:\n",
    "                print(f\"Index '{name}' failed!\")\n",
    "                continue\n"
   ]
  }
 ],
 "metadata": {
  "kernelspec": {
   "display_name": "chem-embed",
   "language": "python",
   "name": "python3"
  },
  "language_info": {
   "codemirror_mode": {
    "name": "ipython",
    "version": 3
   },
   "file_extension": ".py",
   "mimetype": "text/x-python",
   "name": "python",
   "nbconvert_exporter": "python",
   "pygments_lexer": "ipython3",
   "version": "3.12.8"
  }
 },
 "nbformat": 4,
 "nbformat_minor": 2
}
